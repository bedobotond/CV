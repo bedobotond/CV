{
 "cells": [
  {
   "cell_type": "markdown",
   "metadata": {},
   "source": [
    "## Web scrape the data"
   ]
  },
  {
   "cell_type": "markdown",
   "metadata": {},
   "source": [
    "#### Personas"
   ]
  },
  {
   "cell_type": "code",
   "execution_count": 1,
   "metadata": {},
   "outputs": [],
   "source": [
    "from bs4 import BeautifulSoup as soup\n",
    "from urllib.request import urlopen as uReq\n",
    "import csv\n",
    "import json"
   ]
  },
  {
   "cell_type": "code",
   "execution_count": 2,
   "metadata": {},
   "outputs": [],
   "source": [
    "page_url = 'https://megamitensei.fandom.com/wiki/List_of_Persona_4_Personas'\n",
    "uClient = uReq(page_url)\n",
    "page_soup = soup(uClient.read(), \"html.parser\")\n",
    "uClient.close()"
   ]
  },
  {
   "cell_type": "code",
   "execution_count": 3,
   "metadata": {},
   "outputs": [],
   "source": [
    "persona = []\n",
    "\n",
    "arcana = page_soup('table', {'class':'table p4'})\n",
    "arcana_l = len(arcana)\n",
    "\n",
    "for arc in range(arcana_l):\n",
    "    pname = arcana[arc].findAll('a')\n",
    "    pname_l = len(pname)\n",
    "    for pn in range(pname_l):\n",
    "        name = pname[pn].text\n",
    "        if pname[pn].previous_element.previous_element.previous_element != '**':\n",
    "            persona.append(name)"
   ]
  },
  {
   "cell_type": "code",
   "execution_count": 4,
   "metadata": {},
   "outputs": [],
   "source": [
    "# Data cleaning: \n",
    "# It shouldn't be in the list, but only for this element, there was an extra span\n",
    "# which broke the previous_element method.\n",
    "persona.remove('Takehaya Susano-o')\n",
    "\n",
    "# For this one, the link will be different than the sample for all the other links,\n",
    "# because 'https://megamitensei.fandom.com/wiki/Seth' existed before this collection.\n",
    "persona[173] = 'Seth_(demon)'\n",
    "\n",
    "# The japan to english translation was incorrect in this persona's name, and one \n",
    "# website uses the incerrect one, the other the correct one. Because of this, the\n",
    "# link is not unified with the name.\n",
    "persona[177] = 'Feng_Huang'\n",
    "\n",
    "# This one has a significantly different webpage, so I can't automatize it. If its needed, a solution\n",
    "# could be adding it at the end, by code, or by hand. Now I won't include it.\n",
    "persona.remove('Magatsu-Izanagi')\n",
    "\n",
    "# For some reason, this persona's name differs on the main page and on its own page.\n",
    "persona[198] = 'Kushinada-Hime'"
   ]
  },
  {
   "cell_type": "code",
   "execution_count": 5,
   "metadata": {},
   "outputs": [],
   "source": [
    "links = []\n",
    "\n",
    "for p in persona:\n",
    "    links.append('https://megamitensei.fandom.com/wiki/' + p.replace(' ','_'))"
   ]
  },
  {
   "cell_type": "code",
   "execution_count": 6,
   "metadata": {},
   "outputs": [],
   "source": [
    "# I change the names back, for later use\n",
    "persona[173] = 'Seth'\n",
    "persona[177] = 'Phoenix'\n",
    "persona[198] = 'Kushinada'"
   ]
  },
  {
   "cell_type": "code",
   "execution_count": 7,
   "metadata": {
    "scrolled": true
   },
   "outputs": [],
   "source": [
    "# It will take a few minutes\n",
    "\n",
    "counter = 0\n",
    "\n",
    "headers = ['Name','Arcana','Base level','Strength','Magic','Endurance','Agility','Luck','Inherit','Reflects','Absorbs',\n",
    "           'Block','Resists','Weak','List of Skills']\n",
    "\n",
    "with open('persona4.csv', 'w', newline='\\n') as f:\n",
    "    writer = csv.writer(f)\n",
    "    writer.writerow(headers)\n",
    "\n",
    "    for link in links:\n",
    "\n",
    "        page_url = link\n",
    "        uClient = uReq(page_url)\n",
    "        page_soup = soup(uClient.read(), \"html.parser\")\n",
    "        uClient.close()\n",
    "\n",
    "        span = page_soup('span',{'id':'Persona_4_3'})\n",
    "\n",
    "        if span == []:\n",
    "            span = page_soup('span',{'id':'Persona_4_2'})\n",
    "        if span == []:\n",
    "            span = span = page_soup('span',{'id':'Persona_4'})\n",
    "        if span == []:\n",
    "            span = span = page_soup('span',{'id':'Persona_4_Golden_2'})\n",
    "        if span == []:\n",
    "            span = span = page_soup('span',{'id':'Persona_4_Golden'})\n",
    "\n",
    "        table = span[0].next_element.next_element.next_element.next_element.next_element.next_element.next_element.next_element\n",
    "\n",
    "        \n",
    "        arc = table.findAll('table',{'class':'customtable'})[0].findAll('td')[-2].text.strip()\n",
    "        lvl = int(table.findAll('table',{'class':'customtable'})[0].findAll('td')[-1].text.strip())\n",
    "\n",
    "        stat = []\n",
    "        for j in range(0,5):\n",
    "            tmp = table.findAll('table',{'class':'customtable'})[0].table.findAll('td')[3*j+1].text\n",
    "            tmp = tmp.strip()\n",
    "            stat.append(int(tmp))\n",
    "\n",
    "        elem = []\n",
    "        for j in range(0,6):\n",
    "            tmp = table.findAll('table',{'class':'customtable'})[1].findAll('td')[j].text\n",
    "            tmp = tmp.strip()\n",
    "            elem.append(tmp)\n",
    "\n",
    "        skills = table.findAll('table',{'class':'customtable'})[2].findAll('tr')[2:]\n",
    "        skill_set = []\n",
    "        for j in range(len(skills)):\n",
    "\n",
    "            sp = {}\n",
    "            skill = list(filter(None, skills[j].text.split('\\n')))\n",
    "            \n",
    "            if skill[3] == 'Innate':\n",
    "                skill[3] = lvl\n",
    "            elif 'S' in skill[3]:\n",
    "                skill[3] = None\n",
    "            else:\n",
    "                skill[3] = int(skill[3])\n",
    "\n",
    "            sp.update({'name':skill[0],\n",
    "                       'level':skill[3]})\n",
    "            skill_set.append(sp)\n",
    "            \n",
    "        skill_set = {'skills':skill_set}\n",
    "        skill_set = json.dumps(skill_set)\n",
    "\n",
    "        writer.writerow([persona[counter],arc,lvl,stat[0],stat[1],stat[2],stat[3],stat[4],elem[0],elem[1],elem[2],\n",
    "                         elem[3],elem[4],elem[5],skill_set])\n",
    "        counter = counter + 1\n",
    "        \n",
    "f.close()"
   ]
  },
  {
   "cell_type": "markdown",
   "metadata": {},
   "source": [
    "#### Skills"
   ]
  },
  {
   "cell_type": "code",
   "execution_count": 8,
   "metadata": {},
   "outputs": [],
   "source": [
    "page_url = 'https://megamitensei.fandom.com/wiki/List_of_Persona_4_Skills'\n",
    "uClient = uReq(page_url)\n",
    "page_soup = soup(uClient.read(), \"html.parser\")\n",
    "uClient.close()"
   ]
  },
  {
   "cell_type": "code",
   "execution_count": 9,
   "metadata": {},
   "outputs": [],
   "source": [
    "# The sizes of the tables changes, so it will be a little bit messy.\n",
    "# I have to adjust it manually.\n",
    "\n",
    "table = page_soup.findAll('table',{'class':'table p4'})\n",
    "\n",
    "headers = ['Skill','Effect','Cost']\n",
    "\n",
    "with open('skills.csv', 'w', newline='\\n') as f:\n",
    "    writer = csv.writer(f)\n",
    "    writer.writerow(headers)\n",
    "    \n",
    "    for j in range(0,2):\n",
    "        tmp_table = table[j].findAll('td')\n",
    "        for k in range(0,int(len(tmp_table)/6)):\n",
    "            skill = tmp_table[6*k].text.strip().replace(';', ' ').replace('\\n','|')\n",
    "            effect = tmp_table[6*k+1].text.strip().replace(';', ' ').replace('\\n','|')\n",
    "            cost = tmp_table[6*k+5].text.strip().replace(';', ' ').replace('\\n','|')\n",
    "            writer.writerow([skill,effect,cost])\n",
    "    \n",
    "    for j in range(2,6):\n",
    "        tmp_table = table[j].findAll('td')\n",
    "        for k in range(0,int(len(tmp_table)/5)):\n",
    "            skill = tmp_table[5*k].text.strip().replace(';', ' ').replace('\\n','|')\n",
    "            effect = tmp_table[5*k+1].text.strip().replace(';', ' ').replace('\\n','|')\n",
    "            cost = tmp_table[5*k+4].text.strip().replace(';', ' ').replace('\\n','|')\n",
    "            writer.writerow([skill,effect,cost])\n",
    "            \n",
    "    for j in range(6,8):\n",
    "        tmp_table = table[j].findAll('td')\n",
    "        for k in range(0,int(len(tmp_table)/4)):\n",
    "            skill = tmp_table[4*k].text.strip().replace(';', ' ').replace('\\n','|')\n",
    "            effect = tmp_table[4*k+1].text.strip().replace(';', ' ').replace('\\n','|')\n",
    "            cost = tmp_table[4*k+3].text.strip().replace(';', ' ').replace('\\n','|')\n",
    "            writer.writerow([skill,effect,cost])\n",
    "            \n",
    "    for j in range(8,9):\n",
    "        tmp_table = table[j].findAll('td')\n",
    "        for k in range(0,int(len(tmp_table)/5)):\n",
    "            skill = tmp_table[5*k].text.strip().replace(';', ' ').replace('\\n','|')\n",
    "            effect = tmp_table[5*k+1].text.strip().replace(';', ' ').replace('\\n','|')\n",
    "            cost = tmp_table[5*k+4].text.strip().replace(';', ' ').replace('\\n','|')\n",
    "            writer.writerow([skill,effect,cost])\n",
    "            \n",
    "    for j in range(9,12):\n",
    "        tmp_table = table[j].findAll('td')\n",
    "        for k in range(0,int(len(tmp_table)/3)):\n",
    "            skill = tmp_table[3*k].text.strip().replace(';', ' ').replace('\\n','|')\n",
    "            effect = tmp_table[3*k+1].text.strip().replace(';', ' ').replace('\\n','|')\n",
    "            cost = tmp_table[3*k+2].text.strip().replace(';', ' ').replace('\\n','|')\n",
    "            writer.writerow([skill,effect,cost])\n",
    "            \n",
    "    for j in range(12,13):\n",
    "        tmp_table = table[j].findAll('td')\n",
    "        for k in range(0,int(len(tmp_table)/3)):\n",
    "            skill = tmp_table[3*k].text.strip().replace(';', ' ').replace('\\n','|')\n",
    "            effect = tmp_table[3*k+1].text.strip().replace(';', ' ').replace('\\n','|')\n",
    "            cost = '0 Passive'\n",
    "            writer.writerow([skill,effect,cost])\n",
    "            \n",
    "    for j in range(13,14):\n",
    "        tmp_table = table[j].findAll('td')\n",
    "        for k in range(0,int(len(tmp_table)/2)):\n",
    "            skill = tmp_table[2*k].text.strip().replace(';', ' ').replace('\\n','|')\n",
    "            effect = tmp_table[2*k+1].text.strip().replace(';', ' ').replace('\\n','|')\n",
    "            cost = '0 Passive'\n",
    "            writer.writerow([skill,effect,cost])\n",
    "            \n",
    "f.close()"
   ]
  },
  {
   "cell_type": "markdown",
   "metadata": {},
   "source": [
    "## Cleaning"
   ]
  },
  {
   "cell_type": "markdown",
   "metadata": {},
   "source": [
    "#### Personas"
   ]
  },
  {
   "cell_type": "code",
   "execution_count": 10,
   "metadata": {},
   "outputs": [],
   "source": [
    "import pandas as pd\n",
    "import numpy as np\n",
    "import re"
   ]
  },
  {
   "cell_type": "code",
   "execution_count": 11,
   "metadata": {},
   "outputs": [],
   "source": [
    "p4 = pd.read_csv('persona4.csv')"
   ]
  },
  {
   "cell_type": "code",
   "execution_count": 12,
   "metadata": {},
   "outputs": [],
   "source": [
    "# Firstly, we have to work out some inconsistency\n",
    "\n",
    "# In Inherit:\n",
    "p4['Inherit'] = p4['Inherit'].astype(str)\n",
    "p4.loc[p4['Inherit'] == 'Dark','Inherit'] = 'Darkness'\n",
    "p4.loc[p4['Inherit'] == 'Elec','Inherit'] = 'Electricity'\n",
    "p4.loc[p4['Inherit'] == 'Negative stats','Inherit'] = 'Negative Status'\n",
    "p4.loc[p4['Inherit'] == 'Phys','Inherit'] = 'Physical'\n",
    "p4.loc[p4['Inherit'] == 'Support Skills','Inherit'] = 'Support'\n",
    "p4.loc[p4['Inherit'] == 'Status','Inherit'] = 'Negative Status'\n",
    "p4.loc[p4['Inherit'] == 'Bad Status','Inherit'] = 'Negative Status'\n",
    "p4.loc[p4['Inherit'] == 'nan','Inherit'] = '-'\n",
    "p4.loc[p4['Inherit'] == 'None','Inherit'] = '-'\n",
    "# In Reflects:\n",
    "p4['Reflects'] = p4['Reflects'].str.replace(', ','/')\n",
    "p4.loc[p4['Reflects'] == 'Dark','Reflects'] = 'Darkness'\n",
    "p4.loc[p4['Reflects'] == 'Dark/Fire','Reflects'] = 'Darkness/Fire'\n",
    "p4.loc[p4['Reflects'] == 'Elec/Light','Reflects'] = 'Electricity/Light'\n",
    "p4['Reflects'] = p4['Reflects'].str.replace('Electricity','Elec')\n",
    "p4['Reflects'] = p4['Reflects'].str.replace('Elec','Electricity')\n",
    "p4['Reflects'] = p4['Reflects'].str.replace('Physical','Phys')\n",
    "p4['Reflects'] = p4['Reflects'].str.replace('Phys','Physical')\n",
    "# In Absorbs:\n",
    "p4['Absorbs'] = p4['Absorbs'].str.replace(', ','/')\n",
    "p4.loc[p4['Absorbs'] == 'Elec','Absorbs'] = 'Electricity'\n",
    "# In Block:\n",
    "p4['Block'] = p4['Block'].str.replace(', ','/')\n",
    "p4['Block'] = p4['Block'].str.replace('Darkness','Dark')\n",
    "p4['Block'] = p4['Block'].str.replace('Dark','Darkness')\n",
    "p4['Block'] = p4['Block'].str.replace('Physical','Phys')\n",
    "p4['Block'] = p4['Block'].str.replace('Phys','Physical')\n",
    "p4['Block'] = p4['Block'].str.replace('Electricity','Elec')\n",
    "p4['Block'] = p4['Block'].str.replace('Elec','Electricity')\n",
    "p4.loc[p4['Block'] == 'Fire/Darkness','Block'] = 'Darkness/Fire'\n",
    "p4.loc[p4['Block'] == 'Ice/Electricity','Block'] = 'Electricity/Ice'\n",
    "p4.loc[p4['Block'] == 'Light/Fire','Block'] = 'Fire/Light'\n",
    "# In Resists:\n",
    "p4['Resists'] = p4['Resists'].str.replace(', ','/')\n",
    "p4['Resists'] = p4['Resists'].str.replace(',','/')\n",
    "p4['Resists'] = p4['Resists'].str.replace('Darkness','Dark')\n",
    "p4['Resists'] = p4['Resists'].str.replace('Dark','Darkness')\n",
    "p4['Resists'] = p4['Resists'].str.replace('Electricity','Elec')\n",
    "p4['Resists'] = p4['Resists'].str.replace('Elec','Electricity')\n",
    "p4['Resists'] = p4['Resists'].str.replace('Physical','Phys')\n",
    "p4['Resists'] = p4['Resists'].str.replace('Phys','Physical')\n",
    "# In Weak:\n",
    "p4['Weak'] = p4['Weak'].str.replace(', ','/')\n",
    "p4['Weak'] = p4['Weak'].str.replace('Darkness','Dark')\n",
    "p4['Weak'] = p4['Weak'].str.replace('Dark','Darkness')\n",
    "p4['Weak'] = p4['Weak'].str.replace('Electricity','Elec')\n",
    "p4['Weak'] = p4['Weak'].str.replace('Elec','Electricity')\n",
    "p4['Weak'] = p4['Weak'].str.replace('Physical','Phys')\n",
    "p4['Weak'] = p4['Weak'].str.replace('Phys','Physical')\n",
    "p4.loc[p4['Weak'] == 'Lightning','Weak'] = 'Electricity'\n",
    "p4.loc[p4['Weak'] == 'Fire/Darkness','Weak'] = 'Darkness/Fire'"
   ]
  },
  {
   "cell_type": "code",
   "execution_count": 13,
   "metadata": {
    "scrolled": true
   },
   "outputs": [],
   "source": [
    "# Secondly, we should adjust the columns types if needed\n",
    "p4['List of Skills'] = p4['List of Skills'].apply(json.loads)"
   ]
  },
  {
   "cell_type": "code",
   "execution_count": 14,
   "metadata": {},
   "outputs": [
    {
     "name": "stdout",
     "output_type": "stream",
     "text": [
      "(211, 15)\n"
     ]
    },
    {
     "data": {
      "text/html": [
       "<div>\n",
       "<style scoped>\n",
       "    .dataframe tbody tr th:only-of-type {\n",
       "        vertical-align: middle;\n",
       "    }\n",
       "\n",
       "    .dataframe tbody tr th {\n",
       "        vertical-align: top;\n",
       "    }\n",
       "\n",
       "    .dataframe thead th {\n",
       "        text-align: right;\n",
       "    }\n",
       "</style>\n",
       "<table border=\"1\" class=\"dataframe\">\n",
       "  <thead>\n",
       "    <tr style=\"text-align: right;\">\n",
       "      <th></th>\n",
       "      <th>Name</th>\n",
       "      <th>Arcana</th>\n",
       "      <th>Base level</th>\n",
       "      <th>Strength</th>\n",
       "      <th>Magic</th>\n",
       "      <th>Endurance</th>\n",
       "      <th>Agility</th>\n",
       "      <th>Luck</th>\n",
       "      <th>Inherit</th>\n",
       "      <th>Reflects</th>\n",
       "      <th>Absorbs</th>\n",
       "      <th>Block</th>\n",
       "      <th>Resists</th>\n",
       "      <th>Weak</th>\n",
       "      <th>List of Skills</th>\n",
       "    </tr>\n",
       "  </thead>\n",
       "  <tbody>\n",
       "    <tr>\n",
       "      <th>0</th>\n",
       "      <td>Izanagi</td>\n",
       "      <td>Fool</td>\n",
       "      <td>1</td>\n",
       "      <td>3</td>\n",
       "      <td>2</td>\n",
       "      <td>2</td>\n",
       "      <td>3</td>\n",
       "      <td>2</td>\n",
       "      <td>Electricity</td>\n",
       "      <td>-</td>\n",
       "      <td>-</td>\n",
       "      <td>Darkness</td>\n",
       "      <td>Electricity</td>\n",
       "      <td>Wind</td>\n",
       "      <td>{'skills': [{'name': 'Zio', 'level': 1}, {'nam...</td>\n",
       "    </tr>\n",
       "    <tr>\n",
       "      <th>1</th>\n",
       "      <td>Yomotsu-Shikome</td>\n",
       "      <td>Fool</td>\n",
       "      <td>7</td>\n",
       "      <td>2</td>\n",
       "      <td>7</td>\n",
       "      <td>7</td>\n",
       "      <td>8</td>\n",
       "      <td>4</td>\n",
       "      <td>Negative Status</td>\n",
       "      <td>-</td>\n",
       "      <td>-</td>\n",
       "      <td>-</td>\n",
       "      <td>Ice</td>\n",
       "      <td>Fire</td>\n",
       "      <td>{'skills': [{'name': 'Poisma', 'level': 7}, {'...</td>\n",
       "    </tr>\n",
       "    <tr>\n",
       "      <th>2</th>\n",
       "      <td>Obariyon</td>\n",
       "      <td>Fool</td>\n",
       "      <td>13</td>\n",
       "      <td>11</td>\n",
       "      <td>6</td>\n",
       "      <td>11</td>\n",
       "      <td>9</td>\n",
       "      <td>9</td>\n",
       "      <td>Physical</td>\n",
       "      <td>-</td>\n",
       "      <td>-</td>\n",
       "      <td>-</td>\n",
       "      <td>Physical/Fire</td>\n",
       "      <td>-</td>\n",
       "      <td>{'skills': [{'name': 'Sonic Punch', 'level': 1...</td>\n",
       "    </tr>\n",
       "    <tr>\n",
       "      <th>3</th>\n",
       "      <td>Legion</td>\n",
       "      <td>Fool</td>\n",
       "      <td>21</td>\n",
       "      <td>14</td>\n",
       "      <td>14</td>\n",
       "      <td>18</td>\n",
       "      <td>13</td>\n",
       "      <td>11</td>\n",
       "      <td>Ailment</td>\n",
       "      <td>-</td>\n",
       "      <td>-</td>\n",
       "      <td>-</td>\n",
       "      <td>Fire/Ice/Darkness</td>\n",
       "      <td>Light</td>\n",
       "      <td>{'skills': [{'name': 'Tentarafoo', 'level': 21...</td>\n",
       "    </tr>\n",
       "    <tr>\n",
       "      <th>4</th>\n",
       "      <td>Ose</td>\n",
       "      <td>Fool</td>\n",
       "      <td>31</td>\n",
       "      <td>28</td>\n",
       "      <td>12</td>\n",
       "      <td>20</td>\n",
       "      <td>25</td>\n",
       "      <td>15</td>\n",
       "      <td>Physical</td>\n",
       "      <td>-</td>\n",
       "      <td>-</td>\n",
       "      <td>Wind</td>\n",
       "      <td>Physical</td>\n",
       "      <td>Light</td>\n",
       "      <td>{'skills': [{'name': 'Power Slash', 'level': 3...</td>\n",
       "    </tr>\n",
       "  </tbody>\n",
       "</table>\n",
       "</div>"
      ],
      "text/plain": [
       "              Name Arcana  Base level  Strength  Magic  Endurance  Agility  \\\n",
       "0          Izanagi   Fool           1         3      2          2        3   \n",
       "1  Yomotsu-Shikome   Fool           7         2      7          7        8   \n",
       "2         Obariyon   Fool          13        11      6         11        9   \n",
       "3           Legion   Fool          21        14     14         18       13   \n",
       "4              Ose   Fool          31        28     12         20       25   \n",
       "\n",
       "   Luck          Inherit Reflects Absorbs     Block            Resists   Weak  \\\n",
       "0     2      Electricity        -       -  Darkness        Electricity   Wind   \n",
       "1     4  Negative Status        -       -         -                Ice   Fire   \n",
       "2     9         Physical        -       -         -      Physical/Fire      -   \n",
       "3    11          Ailment        -       -         -  Fire/Ice/Darkness  Light   \n",
       "4    15         Physical        -       -      Wind           Physical  Light   \n",
       "\n",
       "                                      List of Skills  \n",
       "0  {'skills': [{'name': 'Zio', 'level': 1}, {'nam...  \n",
       "1  {'skills': [{'name': 'Poisma', 'level': 7}, {'...  \n",
       "2  {'skills': [{'name': 'Sonic Punch', 'level': 1...  \n",
       "3  {'skills': [{'name': 'Tentarafoo', 'level': 21...  \n",
       "4  {'skills': [{'name': 'Power Slash', 'level': 3...  "
      ]
     },
     "execution_count": 14,
     "metadata": {},
     "output_type": "execute_result"
    }
   ],
   "source": [
    "print(p4.shape)\n",
    "p4.head()"
   ]
  },
  {
   "cell_type": "code",
   "execution_count": 15,
   "metadata": {},
   "outputs": [],
   "source": [
    "# Save it in a separate file before further changes\n",
    "p4.to_csv('persona4.csv')"
   ]
  },
  {
   "cell_type": "markdown",
   "metadata": {},
   "source": [
    "#### Skills"
   ]
  },
  {
   "cell_type": "code",
   "execution_count": 16,
   "metadata": {},
   "outputs": [],
   "source": [
    "skills = pd.read_csv('skills.csv')"
   ]
  },
  {
   "cell_type": "code",
   "execution_count": 17,
   "metadata": {},
   "outputs": [],
   "source": [
    "Costs = []\n",
    "Resource = []\n",
    "\n",
    "for j in range(0,skills.shape[0]):\n",
    "    tmp = skills['Cost'][j]\n",
    "    Costs.append(re.search('[0-9]+',tmp).group(0))\n",
    "    Resource.append(re.search('% HP|SP|Passive',tmp).group(0))"
   ]
  },
  {
   "cell_type": "code",
   "execution_count": 18,
   "metadata": {
    "scrolled": true
   },
   "outputs": [],
   "source": [
    "tmp_d = pd.DataFrame(list(zip(Costs, Resource)), columns =['Costs', 'Resource'])\n",
    "skills = skills.merge(tmp_d, on=skills.index)[['Skill','Effect','Costs','Resource']]"
   ]
  },
  {
   "cell_type": "code",
   "execution_count": 19,
   "metadata": {},
   "outputs": [
    {
     "name": "stdout",
     "output_type": "stream",
     "text": [
      "(296, 4)\n"
     ]
    },
    {
     "data": {
      "text/html": [
       "<div>\n",
       "<style scoped>\n",
       "    .dataframe tbody tr th:only-of-type {\n",
       "        vertical-align: middle;\n",
       "    }\n",
       "\n",
       "    .dataframe tbody tr th {\n",
       "        vertical-align: top;\n",
       "    }\n",
       "\n",
       "    .dataframe thead th {\n",
       "        text-align: right;\n",
       "    }\n",
       "</style>\n",
       "<table border=\"1\" class=\"dataframe\">\n",
       "  <thead>\n",
       "    <tr style=\"text-align: right;\">\n",
       "      <th></th>\n",
       "      <th>Skill</th>\n",
       "      <th>Effect</th>\n",
       "      <th>Costs</th>\n",
       "      <th>Resource</th>\n",
       "    </tr>\n",
       "  </thead>\n",
       "  <tbody>\n",
       "    <tr>\n",
       "      <th>0</th>\n",
       "      <td>Bash</td>\n",
       "      <td>Deals light Phys damage to 1 foe.</td>\n",
       "      <td>6</td>\n",
       "      <td>% HP</td>\n",
       "    </tr>\n",
       "    <tr>\n",
       "      <th>1</th>\n",
       "      <td>Cleave</td>\n",
       "      <td>Deals light Phys damage to 1 foe.</td>\n",
       "      <td>5</td>\n",
       "      <td>% HP</td>\n",
       "    </tr>\n",
       "    <tr>\n",
       "      <th>2</th>\n",
       "      <td>Skewer</td>\n",
       "      <td>Deals light Phys damage to 1 foe.</td>\n",
       "      <td>5</td>\n",
       "      <td>% HP</td>\n",
       "    </tr>\n",
       "    <tr>\n",
       "      <th>3</th>\n",
       "      <td>Sonic Punch</td>\n",
       "      <td>Deals light Phys damage to 1 foe.</td>\n",
       "      <td>8</td>\n",
       "      <td>% HP</td>\n",
       "    </tr>\n",
       "    <tr>\n",
       "      <th>4</th>\n",
       "      <td>Double Fangs</td>\n",
       "      <td>Deals light Phys damage to 1 foe 2x.</td>\n",
       "      <td>8</td>\n",
       "      <td>% HP</td>\n",
       "    </tr>\n",
       "  </tbody>\n",
       "</table>\n",
       "</div>"
      ],
      "text/plain": [
       "          Skill                                Effect Costs Resource\n",
       "0          Bash     Deals light Phys damage to 1 foe.     6     % HP\n",
       "1        Cleave     Deals light Phys damage to 1 foe.     5     % HP\n",
       "2        Skewer     Deals light Phys damage to 1 foe.     5     % HP\n",
       "3   Sonic Punch     Deals light Phys damage to 1 foe.     8     % HP\n",
       "4  Double Fangs  Deals light Phys damage to 1 foe 2x.     8     % HP"
      ]
     },
     "execution_count": 19,
     "metadata": {},
     "output_type": "execute_result"
    }
   ],
   "source": [
    "print(skills.shape)\n",
    "skills.head()"
   ]
  },
  {
   "cell_type": "markdown",
   "metadata": {},
   "source": [
    "## Normalization"
   ]
  },
  {
   "cell_type": "markdown",
   "metadata": {},
   "source": [
    "#### skill_connection"
   ]
  },
  {
   "cell_type": "code",
   "execution_count": 20,
   "metadata": {
    "scrolled": true
   },
   "outputs": [],
   "source": [
    "P_index = []\n",
    "S_name = []\n",
    "S_lvl = []\n",
    "\n",
    "for j in range(0,len(p4)):\n",
    "    for k in range(0,len(p4['List of Skills'][j]['skills'])):\n",
    "        P_index.append(p4.index[j])\n",
    "        S_name.append(p4['List of Skills'][j]['skills'][k]['name'])\n",
    "        S_lvl.append(p4['List of Skills'][j]['skills'][k]['level'])"
   ]
  },
  {
   "cell_type": "code",
   "execution_count": 21,
   "metadata": {},
   "outputs": [],
   "source": [
    "skill_connection = pd.DataFrame(list(zip(P_index, S_name,S_lvl)), columns = ['P_index', 'S_name','S_lvl'])"
   ]
  },
  {
   "cell_type": "code",
   "execution_count": 22,
   "metadata": {},
   "outputs": [],
   "source": [
    "skills['S_index'] = skills.index\n",
    "skill_connection = skill_connection.merge(skills, left_on = 'S_name', right_on = 'Skill')[['P_index','S_index','S_lvl']]\n",
    "skills.drop(columns = 'S_index',inplace = True)"
   ]
  },
  {
   "cell_type": "code",
   "execution_count": 23,
   "metadata": {},
   "outputs": [],
   "source": [
    "p4.drop(columns = 'List of Skills', inplace = True)"
   ]
  },
  {
   "cell_type": "code",
   "execution_count": 24,
   "metadata": {},
   "outputs": [
    {
     "name": "stdout",
     "output_type": "stream",
     "text": [
      "(1496, 3)\n"
     ]
    },
    {
     "data": {
      "text/html": [
       "<div>\n",
       "<style scoped>\n",
       "    .dataframe tbody tr th:only-of-type {\n",
       "        vertical-align: middle;\n",
       "    }\n",
       "\n",
       "    .dataframe tbody tr th {\n",
       "        vertical-align: top;\n",
       "    }\n",
       "\n",
       "    .dataframe thead th {\n",
       "        text-align: right;\n",
       "    }\n",
       "</style>\n",
       "<table border=\"1\" class=\"dataframe\">\n",
       "  <thead>\n",
       "    <tr style=\"text-align: right;\">\n",
       "      <th></th>\n",
       "      <th>P_index</th>\n",
       "      <th>S_index</th>\n",
       "      <th>S_lvl</th>\n",
       "    </tr>\n",
       "  </thead>\n",
       "  <tbody>\n",
       "    <tr>\n",
       "      <th>0</th>\n",
       "      <td>0</td>\n",
       "      <td>70</td>\n",
       "      <td>1.0</td>\n",
       "    </tr>\n",
       "    <tr>\n",
       "      <th>1</th>\n",
       "      <td>10</td>\n",
       "      <td>70</td>\n",
       "      <td>3.0</td>\n",
       "    </tr>\n",
       "    <tr>\n",
       "      <th>2</th>\n",
       "      <td>40</td>\n",
       "      <td>70</td>\n",
       "      <td>12.0</td>\n",
       "    </tr>\n",
       "    <tr>\n",
       "      <th>3</th>\n",
       "      <td>48</td>\n",
       "      <td>70</td>\n",
       "      <td>7.0</td>\n",
       "    </tr>\n",
       "    <tr>\n",
       "      <th>4</th>\n",
       "      <td>132</td>\n",
       "      <td>70</td>\n",
       "      <td>16.0</td>\n",
       "    </tr>\n",
       "  </tbody>\n",
       "</table>\n",
       "</div>"
      ],
      "text/plain": [
       "   P_index  S_index  S_lvl\n",
       "0        0       70    1.0\n",
       "1       10       70    3.0\n",
       "2       40       70   12.0\n",
       "3       48       70    7.0\n",
       "4      132       70   16.0"
      ]
     },
     "execution_count": 24,
     "metadata": {},
     "output_type": "execute_result"
    }
   ],
   "source": [
    "print(skill_connection.shape)\n",
    "skill_connection.head()"
   ]
  },
  {
   "cell_type": "markdown",
   "metadata": {},
   "source": [
    "#### elements"
   ]
  },
  {
   "cell_type": "code",
   "execution_count": 25,
   "metadata": {},
   "outputs": [],
   "source": [
    "elements = pd.DataFrame(p4['Inherit'].sort_values().unique())\n",
    "elements.rename(columns = {0 : 'Elements'}, inplace = True)"
   ]
  },
  {
   "cell_type": "code",
   "execution_count": 26,
   "metadata": {},
   "outputs": [],
   "source": [
    "connections = [pd.DataFrame()] * 6\n",
    "\n",
    "for j in range(0,len(p4.columns[8:])):\n",
    "\n",
    "    Element = []\n",
    "    Index = []\n",
    "\n",
    "    for k in range(0,len(p4)):\n",
    "        if p4[p4.columns[j+8]][k] != '-':\n",
    "            if '/' in p4[p4.columns[j+8]][k]:\n",
    "                tmp = p4[p4.columns[j+8]][k].split('/')\n",
    "                for l in range(0,len(tmp)):\n",
    "                    Index.append(k)\n",
    "                    Element.append(tmp[l])\n",
    "            else:\n",
    "                Index.append(k)\n",
    "                Element.append(p4[p4.columns[j+8]][k])\n",
    "                \n",
    "    connections[j] = pd.DataFrame(list(zip(Index, Element)), columns = ['P_index', p4.columns[j+8]])"
   ]
  },
  {
   "cell_type": "code",
   "execution_count": 27,
   "metadata": {},
   "outputs": [
    {
     "data": {
      "text/plain": [
       "(207, 2)"
      ]
     },
     "execution_count": 27,
     "metadata": {},
     "output_type": "execute_result"
    }
   ],
   "source": [
    "connections[5].shape"
   ]
  },
  {
   "cell_type": "code",
   "execution_count": 28,
   "metadata": {},
   "outputs": [
    {
     "name": "stdout",
     "output_type": "stream",
     "text": [
      "Inherit: (203, 2)\n",
      "Reflects: (57, 2)\n",
      "Absorbs: (35, 2)\n",
      "Block: (162, 2)\n",
      "Resists: (111, 2)\n",
      "Weak: (207, 2)\n"
     ]
    },
    {
     "data": {
      "text/html": [
       "<div>\n",
       "<style scoped>\n",
       "    .dataframe tbody tr th:only-of-type {\n",
       "        vertical-align: middle;\n",
       "    }\n",
       "\n",
       "    .dataframe tbody tr th {\n",
       "        vertical-align: top;\n",
       "    }\n",
       "\n",
       "    .dataframe thead th {\n",
       "        text-align: right;\n",
       "    }\n",
       "</style>\n",
       "<table border=\"1\" class=\"dataframe\">\n",
       "  <thead>\n",
       "    <tr style=\"text-align: right;\">\n",
       "      <th></th>\n",
       "      <th>P_index</th>\n",
       "      <th>Inherit</th>\n",
       "    </tr>\n",
       "  </thead>\n",
       "  <tbody>\n",
       "    <tr>\n",
       "      <th>0</th>\n",
       "      <td>0</td>\n",
       "      <td>Electricity</td>\n",
       "    </tr>\n",
       "    <tr>\n",
       "      <th>1</th>\n",
       "      <td>1</td>\n",
       "      <td>Negative Status</td>\n",
       "    </tr>\n",
       "    <tr>\n",
       "      <th>2</th>\n",
       "      <td>2</td>\n",
       "      <td>Physical</td>\n",
       "    </tr>\n",
       "    <tr>\n",
       "      <th>3</th>\n",
       "      <td>3</td>\n",
       "      <td>Ailment</td>\n",
       "    </tr>\n",
       "    <tr>\n",
       "      <th>4</th>\n",
       "      <td>4</td>\n",
       "      <td>Physical</td>\n",
       "    </tr>\n",
       "  </tbody>\n",
       "</table>\n",
       "</div>"
      ],
      "text/plain": [
       "   P_index          Inherit\n",
       "0        0      Electricity\n",
       "1        1  Negative Status\n",
       "2        2         Physical\n",
       "3        3          Ailment\n",
       "4        4         Physical"
      ]
     },
     "execution_count": 28,
     "metadata": {},
     "output_type": "execute_result"
    }
   ],
   "source": [
    "for j in range(0,len(p4.columns[8:])):\n",
    "    print(p4.columns[j+8] + ': ' + str(connections[j].shape))\n",
    "connections[0].head()"
   ]
  },
  {
   "cell_type": "code",
   "execution_count": 29,
   "metadata": {},
   "outputs": [],
   "source": [
    "p4.drop(columns = ['Inherit','Reflects','Absorbs','Block','Resists','Weak'], inplace = True)"
   ]
  },
  {
   "cell_type": "code",
   "execution_count": 30,
   "metadata": {},
   "outputs": [
    {
     "name": "stdout",
     "output_type": "stream",
     "text": [
      "(211, 8)\n"
     ]
    },
    {
     "data": {
      "text/html": [
       "<div>\n",
       "<style scoped>\n",
       "    .dataframe tbody tr th:only-of-type {\n",
       "        vertical-align: middle;\n",
       "    }\n",
       "\n",
       "    .dataframe tbody tr th {\n",
       "        vertical-align: top;\n",
       "    }\n",
       "\n",
       "    .dataframe thead th {\n",
       "        text-align: right;\n",
       "    }\n",
       "</style>\n",
       "<table border=\"1\" class=\"dataframe\">\n",
       "  <thead>\n",
       "    <tr style=\"text-align: right;\">\n",
       "      <th></th>\n",
       "      <th>Name</th>\n",
       "      <th>Arcana</th>\n",
       "      <th>Base level</th>\n",
       "      <th>Strength</th>\n",
       "      <th>Magic</th>\n",
       "      <th>Endurance</th>\n",
       "      <th>Agility</th>\n",
       "      <th>Luck</th>\n",
       "    </tr>\n",
       "  </thead>\n",
       "  <tbody>\n",
       "    <tr>\n",
       "      <th>0</th>\n",
       "      <td>Izanagi</td>\n",
       "      <td>Fool</td>\n",
       "      <td>1</td>\n",
       "      <td>3</td>\n",
       "      <td>2</td>\n",
       "      <td>2</td>\n",
       "      <td>3</td>\n",
       "      <td>2</td>\n",
       "    </tr>\n",
       "    <tr>\n",
       "      <th>1</th>\n",
       "      <td>Yomotsu-Shikome</td>\n",
       "      <td>Fool</td>\n",
       "      <td>7</td>\n",
       "      <td>2</td>\n",
       "      <td>7</td>\n",
       "      <td>7</td>\n",
       "      <td>8</td>\n",
       "      <td>4</td>\n",
       "    </tr>\n",
       "    <tr>\n",
       "      <th>2</th>\n",
       "      <td>Obariyon</td>\n",
       "      <td>Fool</td>\n",
       "      <td>13</td>\n",
       "      <td>11</td>\n",
       "      <td>6</td>\n",
       "      <td>11</td>\n",
       "      <td>9</td>\n",
       "      <td>9</td>\n",
       "    </tr>\n",
       "    <tr>\n",
       "      <th>3</th>\n",
       "      <td>Legion</td>\n",
       "      <td>Fool</td>\n",
       "      <td>21</td>\n",
       "      <td>14</td>\n",
       "      <td>14</td>\n",
       "      <td>18</td>\n",
       "      <td>13</td>\n",
       "      <td>11</td>\n",
       "    </tr>\n",
       "    <tr>\n",
       "      <th>4</th>\n",
       "      <td>Ose</td>\n",
       "      <td>Fool</td>\n",
       "      <td>31</td>\n",
       "      <td>28</td>\n",
       "      <td>12</td>\n",
       "      <td>20</td>\n",
       "      <td>25</td>\n",
       "      <td>15</td>\n",
       "    </tr>\n",
       "  </tbody>\n",
       "</table>\n",
       "</div>"
      ],
      "text/plain": [
       "              Name Arcana  Base level  Strength  Magic  Endurance  Agility  \\\n",
       "0          Izanagi   Fool           1         3      2          2        3   \n",
       "1  Yomotsu-Shikome   Fool           7         2      7          7        8   \n",
       "2         Obariyon   Fool          13        11      6         11        9   \n",
       "3           Legion   Fool          21        14     14         18       13   \n",
       "4              Ose   Fool          31        28     12         20       25   \n",
       "\n",
       "   Luck  \n",
       "0     2  \n",
       "1     4  \n",
       "2     9  \n",
       "3    11  \n",
       "4    15  "
      ]
     },
     "execution_count": 30,
     "metadata": {},
     "output_type": "execute_result"
    }
   ],
   "source": [
    "print(p4.shape)\n",
    "p4.head()"
   ]
  },
  {
   "cell_type": "markdown",
   "metadata": {},
   "source": [
    "## Final saves"
   ]
  },
  {
   "cell_type": "code",
   "execution_count": 31,
   "metadata": {},
   "outputs": [],
   "source": [
    "p4.to_csv('personas.csv')"
   ]
  },
  {
   "cell_type": "code",
   "execution_count": 32,
   "metadata": {},
   "outputs": [],
   "source": [
    "skills.to_csv('skills.csv')"
   ]
  },
  {
   "cell_type": "code",
   "execution_count": 33,
   "metadata": {},
   "outputs": [],
   "source": [
    "skill_connection.to_csv('skill_connection.csv')"
   ]
  },
  {
   "cell_type": "code",
   "execution_count": 34,
   "metadata": {},
   "outputs": [],
   "source": [
    "connections[0].to_csv('c_inherit.csv')\n",
    "connections[1].to_csv('c_reflects.csv')\n",
    "connections[2].to_csv('c_absorbs.csv')\n",
    "connections[3].to_csv('c_block.csv')\n",
    "connections[4].to_csv('c_resists.csv')\n",
    "connections[5].to_csv('c_weak.csv')"
   ]
  },
  {
   "cell_type": "code",
   "execution_count": null,
   "metadata": {},
   "outputs": [],
   "source": []
  }
 ],
 "metadata": {
  "kernelspec": {
   "display_name": "Python 3",
   "language": "python",
   "name": "python3"
  },
  "language_info": {
   "codemirror_mode": {
    "name": "ipython",
    "version": 3
   },
   "file_extension": ".py",
   "mimetype": "text/x-python",
   "name": "python",
   "nbconvert_exporter": "python",
   "pygments_lexer": "ipython3",
   "version": "3.7.6"
  }
 },
 "nbformat": 4,
 "nbformat_minor": 4
}
